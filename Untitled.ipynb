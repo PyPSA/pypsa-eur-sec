{
 "cells": [
  {
   "cell_type": "code",
   "execution_count": 1,
   "id": "2526948c-08d8-4358-b86c-67c3173f5261",
   "metadata": {},
   "outputs": [],
   "source": [
    "import pypsa\n",
    "import numpy as np\n",
    "import pandas as pd"
   ]
  },
  {
   "cell_type": "code",
   "execution_count": 73,
   "id": "0311dd2a-febf-4e42-ba29-726a6cc679ea",
   "metadata": {},
   "outputs": [
    {
     "name": "stderr",
     "output_type": "stream",
     "text": [
      "INFO:pypsa.io:Imported network elec.nc has buses, carriers, generators, lines, links, loads, storage_units, transformers\n"
     ]
    }
   ],
   "source": [
    "n = pypsa.Network(\"../pypsa-eur/networks/elec.nc\")\n",
    "\n",
    "#n = pypsa.Network(\"results/Baseline_128n_3H/prenetworks/elec_sc_LTS_Baseline_s_128_lvopt__Co2L0p10-3H-T-H-B-I-A-seq1e9_2050.nc\")"
   ]
  },
  {
   "cell_type": "code",
   "execution_count": 74,
   "id": "d1bd253b-a29d-4bd1-acdc-66ff1a9da5b6",
   "metadata": {},
   "outputs": [
    {
     "name": "stdout",
     "output_type": "stream",
     "text": [
      "70\n"
     ]
    }
   ],
   "source": [
    "n.links.loc[[i for i in n.links.index if \"IE\" in n.links.loc[i][\"bus1\"] ]]#and n.links.loc[i][\"carrier\"]==\"DC\"]]\n",
    "n.links.loc[[i for i in n.links.index if  n.links.loc[i][\"carrier\"]==\"DC\"]]\n",
    "#pd.read_html('https://en.wikipedia.org/wiki/List_of_HVDC_projects', header=0, match=\"SwePol\")[0]\n",
    "n1=n.links.loc[n.links.carrier==\"DC\"]\n",
    "print(len(n1))\n",
    "#with pd.option_context('display.max_rows', None, 'display.max_columns', None):  # more options can be specified also\n",
    "#    display(n1)"
   ]
  },
  {
   "cell_type": "code",
   "execution_count": 75,
   "id": "51be9238-b9ff-494f-b4fe-5be84fa6e8db",
   "metadata": {},
   "outputs": [
    {
     "data": {
      "text/plain": [
       "bus0                                                                5937\n",
       "bus1                                                                6086\n",
       "carrier                                                               DC\n",
       "geometry               LINESTRING(-3.12293971810515 53.2087645354697,...\n",
       "length                                                        242.400419\n",
       "p_nom                                                              500.0\n",
       "tags                                                                    \n",
       "under_construction                                                 False\n",
       "underground                                                        False\n",
       "p_min_pu                                                            -1.0\n",
       "underwater_fraction                                             0.837487\n",
       "capital_cost                                                64341.560425\n",
       "type                                                                    \n",
       "efficiency                                                           1.0\n",
       "build_year                                                             0\n",
       "lifetime                                                             inf\n",
       "p_nom_extendable                                                   False\n",
       "p_nom_min                                                            0.0\n",
       "p_nom_max                                                            inf\n",
       "p_set                                                                0.0\n",
       "p_max_pu                                                             1.0\n",
       "marginal_cost                                                        0.0\n",
       "terrain_factor                                                       1.0\n",
       "ramp_limit_up                                                        NaN\n",
       "ramp_limit_down                                                      NaN\n",
       "p_nom_opt                                                            0.0\n",
       "Name: 14815, dtype: object"
      ]
     },
     "execution_count": 75,
     "metadata": {},
     "output_type": "execute_result"
    }
   ],
   "source": [
    "EWlink = n1.loc['14815']\n",
    "\n",
    "EWlink.bus0\n",
    "\n",
    "n.buses.loc[EWlink.bus1]\n",
    "\n",
    "n.lines.loc[[i for i in n.lines.index if n.lines.loc[i][\"bus1\"]==EWlink.bus1]]\n",
    "#n.lines\n",
    "\n",
    "EWlink"
   ]
  },
  {
   "cell_type": "code",
   "execution_count": null,
   "id": "744ba1a9-a9be-45e4-a26b-c319c8e6be29",
   "metadata": {},
   "outputs": [],
   "source": []
  }
 ],
 "metadata": {
  "kernelspec": {
   "display_name": "Python 3 (ipykernel)",
   "language": "python",
   "name": "python3"
  },
  "language_info": {
   "codemirror_mode": {
    "name": "ipython",
    "version": 3
   },
   "file_extension": ".py",
   "mimetype": "text/x-python",
   "name": "python",
   "nbconvert_exporter": "python",
   "pygments_lexer": "ipython3",
   "version": "3.9.13"
  }
 },
 "nbformat": 4,
 "nbformat_minor": 5
}
